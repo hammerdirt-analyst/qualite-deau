{
 "cells": [
  {
   "cell_type": "code",
   "execution_count": 1,
   "id": "45c71ef8-72b2-416c-9d2b-1dafb4c4cf1f",
   "metadata": {},
   "outputs": [],
   "source": [
    "import pandas as pd\n",
    "\n",
    "revised = pd.read_csv(\"data/full_data_csv/2016_2023_MRD_VNX_SVT_DoubleCheck2020.csv\")\n",
    "inuse = pd.read_csv(\"data/end/2016_2023_MRD_VNX_SVT.csv\")"
   ]
  },
  {
   "cell_type": "markdown",
   "id": "788a1250-78ba-492c-86ed-8837220573e2",
   "metadata": {},
   "source": [
    "# Comparing data sources"
   ]
  },
  {
   "cell_type": "markdown",
   "id": "06a550a5-30ad-46ac-8d72-63944002e267",
   "metadata": {},
   "source": [
    "## mediums"
   ]
  },
  {
   "cell_type": "code",
   "execution_count": 4,
   "id": "9434d783-3bcd-47c3-af2c-5d95c0eb6a50",
   "metadata": {},
   "outputs": [
    {
     "data": {
      "text/plain": [
       "array(['EasyGel', 'ECC-A', 'ECC', 'E coli', 'LB', 'Levine'], dtype=object)"
      ]
     },
     "execution_count": 4,
     "metadata": {},
     "output_type": "execute_result"
    }
   ],
   "source": [
    "revised.medium.unique()"
   ]
  },
  {
   "cell_type": "code",
   "execution_count": 5,
   "id": "ceab01e9-8183-431f-86c2-bf4400e22287",
   "metadata": {},
   "outputs": [
    {
     "data": {
      "text/plain": [
       "array(['EasyGel', 'ECC-A', 'ECC', 'E coli', 'LB', 'Levine'], dtype=object)"
      ]
     },
     "execution_count": 5,
     "metadata": {},
     "output_type": "execute_result"
    }
   ],
   "source": [
    "inuse.medium.unique()"
   ]
  },
  {
   "cell_type": "markdown",
   "id": "c5ae38f7-70ad-4768-a92f-c53f6a6d321e",
   "metadata": {},
   "source": [
    "## samples"
   ]
  },
  {
   "cell_type": "code",
   "execution_count": 8,
   "id": "3285da10-3369-4137-bb52-c0104affea41",
   "metadata": {},
   "outputs": [
    {
     "data": {
      "text/plain": [
       "573"
      ]
     },
     "execution_count": 8,
     "metadata": {},
     "output_type": "execute_result"
    }
   ],
   "source": [
    "revised.date_sample.nunique()"
   ]
  },
  {
   "cell_type": "code",
   "execution_count": 9,
   "id": "347eea5d-a82a-4a0c-afde-d7a9b32e3756",
   "metadata": {},
   "outputs": [
    {
     "data": {
      "text/plain": [
       "573"
      ]
     },
     "execution_count": 9,
     "metadata": {},
     "output_type": "execute_result"
    }
   ],
   "source": [
    "inuse.date_sample.nunique()"
   ]
  },
  {
   "cell_type": "markdown",
   "id": "3b4cb68c-290b-4986-b2b1-59e284afb6fe",
   "metadata": {},
   "source": [
    "## locations"
   ]
  },
  {
   "cell_type": "code",
   "execution_count": 11,
   "id": "9b16df8d-9f32-413e-8bdb-e6a3f10c0719",
   "metadata": {},
   "outputs": [
    {
     "data": {
      "text/plain": [
       "array(['MRD', 'SVT', 'VNX'], dtype=object)"
      ]
     },
     "execution_count": 11,
     "metadata": {},
     "output_type": "execute_result"
    }
   ],
   "source": [
    "revised.location.unique()"
   ]
  },
  {
   "cell_type": "code",
   "execution_count": 12,
   "id": "6eba504d-ec49-4804-8943-8b1094efb5ee",
   "metadata": {},
   "outputs": [
    {
     "data": {
      "text/plain": [
       "array(['MRD', 'SVT', 'VNX'], dtype=object)"
      ]
     },
     "execution_count": 12,
     "metadata": {},
     "output_type": "execute_result"
    }
   ],
   "source": [
    "inuse.location.unique()"
   ]
  },
  {
   "cell_type": "markdown",
   "id": "d9d35505-6f24-446c-a51c-87db75ca77ab",
   "metadata": {},
   "source": [
    "### samples by location"
   ]
  },
  {
   "cell_type": "code",
   "execution_count": 13,
   "id": "3a1dad18-849b-41a8-b7ec-c7f659dc31f4",
   "metadata": {},
   "outputs": [
    {
     "data": {
      "text/plain": [
       "location\n",
       "MRD    188\n",
       "SVT    194\n",
       "VNX    191\n",
       "Name: date_sample, dtype: int64"
      ]
     },
     "execution_count": 13,
     "metadata": {},
     "output_type": "execute_result"
    }
   ],
   "source": [
    "revised.groupby(\"location\").date_sample.nunique()"
   ]
  },
  {
   "cell_type": "code",
   "execution_count": 14,
   "id": "f3885c3a-b410-4934-b90c-e8d25b68e427",
   "metadata": {},
   "outputs": [
    {
     "data": {
      "text/plain": [
       "location\n",
       "MRD    188\n",
       "SVT    194\n",
       "VNX    191\n",
       "Name: date_sample, dtype: int64"
      ]
     },
     "execution_count": 14,
     "metadata": {},
     "output_type": "execute_result"
    }
   ],
   "source": [
    "inuse.groupby(\"location\").date_sample.nunique()"
   ]
  }
 ],
 "metadata": {
  "kernelspec": {
   "display_name": "Python 3 (ipykernel)",
   "language": "python",
   "name": "python3"
  },
  "language_info": {
   "codemirror_mode": {
    "name": "ipython",
    "version": 3
   },
   "file_extension": ".py",
   "mimetype": "text/x-python",
   "name": "python",
   "nbconvert_exporter": "python",
   "pygments_lexer": "ipython3",
   "version": "3.9.17"
  }
 },
 "nbformat": 4,
 "nbformat_minor": 5
}
