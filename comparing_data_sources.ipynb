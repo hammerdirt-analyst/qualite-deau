{
 "cells": [
  {
   "cell_type": "code",
   "execution_count": 1,
   "id": "45c71ef8-72b2-416c-9d2b-1dafb4c4cf1f",
   "metadata": {},
   "outputs": [],
   "source": [
    "import pandas as pd\n",
    "\n",
    "revised = pd.read_csv(\"data/full_data_csv/2016_2023_MRD_VNX_SVT_DoubleCheck2020.csv\")\n",
    "inuse = pd.read_csv(\"data/end/2016_2023_MRD_VNX_SVT.csv\")\n",
    "\n",
    "revised['date'] = pd.to_datetime(revised[\"date\"], dayfirst=True, format=\"mixed\").dt.date\n",
    "inuse['date'] = pd.to_datetime(inuse.date)\n",
    "inuse[\"date\"] = inuse.date.dt.date"
   ]
  },
  {
   "cell_type": "markdown",
   "id": "788a1250-78ba-492c-86ed-8837220573e2",
   "metadata": {},
   "source": [
    "# Comparing data sources"
   ]
  },
  {
   "cell_type": "code",
   "execution_count": 2,
   "id": "73bb454a-9713-4947-af9b-a13c26b5fb86",
   "metadata": {},
   "outputs": [
    {
     "name": "stdout",
     "output_type": "stream",
     "text": [
      "inuse\n",
      "\n"
     ]
    },
    {
     "data": {
      "text/html": [
       "<div>\n",
       "<style scoped>\n",
       "    .dataframe tbody tr th:only-of-type {\n",
       "        vertical-align: middle;\n",
       "    }\n",
       "\n",
       "    .dataframe tbody tr th {\n",
       "        vertical-align: top;\n",
       "    }\n",
       "\n",
       "    .dataframe thead th {\n",
       "        text-align: right;\n",
       "    }\n",
       "</style>\n",
       "<table border=\"1\" class=\"dataframe\">\n",
       "  <thead>\n",
       "    <tr style=\"text-align: right;\">\n",
       "      <th></th>\n",
       "      <th>date</th>\n",
       "      <th>location</th>\n",
       "      <th>sample</th>\n",
       "      <th>date_sample</th>\n",
       "      <th>event</th>\n",
       "      <th>before event</th>\n",
       "      <th>after event</th>\n",
       "      <th>medium</th>\n",
       "      <th>label</th>\n",
       "      <th>count</th>\n",
       "      <th>coef</th>\n",
       "      <th>week</th>\n",
       "      <th>doy</th>\n",
       "      <th>year</th>\n",
       "      <th>color</th>\n",
       "      <th>image</th>\n",
       "    </tr>\n",
       "  </thead>\n",
       "  <tbody>\n",
       "    <tr>\n",
       "      <th>0</th>\n",
       "      <td>2016-07-05</td>\n",
       "      <td>MRD</td>\n",
       "      <td>MRD1</td>\n",
       "      <td>('2016-07-05', 'MRD1')</td>\n",
       "      <td>True</td>\n",
       "      <td>False</td>\n",
       "      <td>False</td>\n",
       "      <td>EasyGel</td>\n",
       "      <td>Bioindicator</td>\n",
       "      <td>0.0</td>\n",
       "      <td>250</td>\n",
       "      <td>27</td>\n",
       "      <td>187</td>\n",
       "      <td>2016</td>\n",
       "      <td>big_blue</td>\n",
       "      <td>none</td>\n",
       "    </tr>\n",
       "    <tr>\n",
       "      <th>1</th>\n",
       "      <td>2016-07-12</td>\n",
       "      <td>MRD</td>\n",
       "      <td>MRD1</td>\n",
       "      <td>('2016-07-12', 'MRD1')</td>\n",
       "      <td>True</td>\n",
       "      <td>False</td>\n",
       "      <td>False</td>\n",
       "      <td>EasyGel</td>\n",
       "      <td>Bioindicator</td>\n",
       "      <td>22.0</td>\n",
       "      <td>25</td>\n",
       "      <td>28</td>\n",
       "      <td>194</td>\n",
       "      <td>2016</td>\n",
       "      <td>big_blue</td>\n",
       "      <td>none</td>\n",
       "    </tr>\n",
       "    <tr>\n",
       "      <th>2</th>\n",
       "      <td>2016-07-19</td>\n",
       "      <td>MRD</td>\n",
       "      <td>MRD1</td>\n",
       "      <td>('2016-07-19', 'MRD1')</td>\n",
       "      <td>False</td>\n",
       "      <td>False</td>\n",
       "      <td>True</td>\n",
       "      <td>EasyGel</td>\n",
       "      <td>Bioindicator</td>\n",
       "      <td>8.0</td>\n",
       "      <td>25</td>\n",
       "      <td>29</td>\n",
       "      <td>201</td>\n",
       "      <td>2016</td>\n",
       "      <td>big_blue</td>\n",
       "      <td>none</td>\n",
       "    </tr>\n",
       "    <tr>\n",
       "      <th>3</th>\n",
       "      <td>2016-06-21</td>\n",
       "      <td>MRD</td>\n",
       "      <td>MRD1</td>\n",
       "      <td>('2016-06-21', 'MRD1')</td>\n",
       "      <td>False</td>\n",
       "      <td>True</td>\n",
       "      <td>False</td>\n",
       "      <td>EasyGel</td>\n",
       "      <td>Bioindicator</td>\n",
       "      <td>2.0</td>\n",
       "      <td>100</td>\n",
       "      <td>25</td>\n",
       "      <td>173</td>\n",
       "      <td>2016</td>\n",
       "      <td>big_blue</td>\n",
       "      <td>none</td>\n",
       "    </tr>\n",
       "    <tr>\n",
       "      <th>4</th>\n",
       "      <td>2016-06-28</td>\n",
       "      <td>MRD</td>\n",
       "      <td>MRD1</td>\n",
       "      <td>('2016-06-28', 'MRD1')</td>\n",
       "      <td>False</td>\n",
       "      <td>True</td>\n",
       "      <td>False</td>\n",
       "      <td>EasyGel</td>\n",
       "      <td>Bioindicator</td>\n",
       "      <td>0.0</td>\n",
       "      <td>25</td>\n",
       "      <td>26</td>\n",
       "      <td>180</td>\n",
       "      <td>2016</td>\n",
       "      <td>big_blue</td>\n",
       "      <td>none</td>\n",
       "    </tr>\n",
       "  </tbody>\n",
       "</table>\n",
       "</div>"
      ],
      "text/plain": [
       "         date location sample             date_sample  event  before event  \\\n",
       "0  2016-07-05      MRD   MRD1  ('2016-07-05', 'MRD1')   True         False   \n",
       "1  2016-07-12      MRD   MRD1  ('2016-07-12', 'MRD1')   True         False   \n",
       "2  2016-07-19      MRD   MRD1  ('2016-07-19', 'MRD1')  False         False   \n",
       "3  2016-06-21      MRD   MRD1  ('2016-06-21', 'MRD1')  False          True   \n",
       "4  2016-06-28      MRD   MRD1  ('2016-06-28', 'MRD1')  False          True   \n",
       "\n",
       "   after event   medium         label  count  coef  week  doy  year     color  \\\n",
       "0        False  EasyGel  Bioindicator    0.0   250    27  187  2016  big_blue   \n",
       "1        False  EasyGel  Bioindicator   22.0    25    28  194  2016  big_blue   \n",
       "2         True  EasyGel  Bioindicator    8.0    25    29  201  2016  big_blue   \n",
       "3        False  EasyGel  Bioindicator    2.0   100    25  173  2016  big_blue   \n",
       "4        False  EasyGel  Bioindicator    0.0    25    26  180  2016  big_blue   \n",
       "\n",
       "  image  \n",
       "0  none  \n",
       "1  none  \n",
       "2  none  \n",
       "3  none  \n",
       "4  none  "
      ]
     },
     "execution_count": 2,
     "metadata": {},
     "output_type": "execute_result"
    }
   ],
   "source": [
    "print(\"inuse\\n\")\n",
    "inuse.head()"
   ]
  },
  {
   "cell_type": "code",
   "execution_count": 3,
   "id": "8c9c16b4-f2da-4c34-b92d-e6516b16f635",
   "metadata": {},
   "outputs": [
    {
     "name": "stdout",
     "output_type": "stream",
     "text": [
      "revised\n",
      "\n"
     ]
    },
    {
     "data": {
      "text/html": [
       "<div>\n",
       "<style scoped>\n",
       "    .dataframe tbody tr th:only-of-type {\n",
       "        vertical-align: middle;\n",
       "    }\n",
       "\n",
       "    .dataframe tbody tr th {\n",
       "        vertical-align: top;\n",
       "    }\n",
       "\n",
       "    .dataframe thead th {\n",
       "        text-align: right;\n",
       "    }\n",
       "</style>\n",
       "<table border=\"1\" class=\"dataframe\">\n",
       "  <thead>\n",
       "    <tr style=\"text-align: right;\">\n",
       "      <th></th>\n",
       "      <th>date</th>\n",
       "      <th>location</th>\n",
       "      <th>sample</th>\n",
       "      <th>date_sample</th>\n",
       "      <th>event</th>\n",
       "      <th>before event</th>\n",
       "      <th>after event</th>\n",
       "      <th>medium</th>\n",
       "      <th>label</th>\n",
       "      <th>count</th>\n",
       "      <th>coef</th>\n",
       "      <th>week</th>\n",
       "      <th>doy</th>\n",
       "      <th>year</th>\n",
       "      <th>color</th>\n",
       "      <th>image</th>\n",
       "    </tr>\n",
       "  </thead>\n",
       "  <tbody>\n",
       "    <tr>\n",
       "      <th>0</th>\n",
       "      <td>2016-07-05</td>\n",
       "      <td>MRD</td>\n",
       "      <td>MRD1</td>\n",
       "      <td>('2016-07-05', 'MRD1')</td>\n",
       "      <td>True</td>\n",
       "      <td>False</td>\n",
       "      <td>False</td>\n",
       "      <td>EasyGel</td>\n",
       "      <td>Bioindicator</td>\n",
       "      <td>0.0</td>\n",
       "      <td>250</td>\n",
       "      <td>27</td>\n",
       "      <td>187</td>\n",
       "      <td>2016</td>\n",
       "      <td>big_blue</td>\n",
       "      <td>none</td>\n",
       "    </tr>\n",
       "    <tr>\n",
       "      <th>1</th>\n",
       "      <td>2016-07-12</td>\n",
       "      <td>MRD</td>\n",
       "      <td>MRD1</td>\n",
       "      <td>('2016-07-12', 'MRD1')</td>\n",
       "      <td>True</td>\n",
       "      <td>False</td>\n",
       "      <td>False</td>\n",
       "      <td>EasyGel</td>\n",
       "      <td>Bioindicator</td>\n",
       "      <td>22.0</td>\n",
       "      <td>25</td>\n",
       "      <td>28</td>\n",
       "      <td>194</td>\n",
       "      <td>2016</td>\n",
       "      <td>big_blue</td>\n",
       "      <td>none</td>\n",
       "    </tr>\n",
       "    <tr>\n",
       "      <th>2</th>\n",
       "      <td>2016-07-19</td>\n",
       "      <td>MRD</td>\n",
       "      <td>MRD1</td>\n",
       "      <td>('2016-07-19', 'MRD1')</td>\n",
       "      <td>False</td>\n",
       "      <td>False</td>\n",
       "      <td>True</td>\n",
       "      <td>EasyGel</td>\n",
       "      <td>Bioindicator</td>\n",
       "      <td>8.0</td>\n",
       "      <td>25</td>\n",
       "      <td>29</td>\n",
       "      <td>201</td>\n",
       "      <td>2016</td>\n",
       "      <td>big_blue</td>\n",
       "      <td>none</td>\n",
       "    </tr>\n",
       "    <tr>\n",
       "      <th>3</th>\n",
       "      <td>2016-06-21</td>\n",
       "      <td>MRD</td>\n",
       "      <td>MRD1</td>\n",
       "      <td>('2016-06-21', 'MRD1')</td>\n",
       "      <td>False</td>\n",
       "      <td>True</td>\n",
       "      <td>False</td>\n",
       "      <td>EasyGel</td>\n",
       "      <td>Bioindicator</td>\n",
       "      <td>2.0</td>\n",
       "      <td>100</td>\n",
       "      <td>25</td>\n",
       "      <td>173</td>\n",
       "      <td>2016</td>\n",
       "      <td>big_blue</td>\n",
       "      <td>none</td>\n",
       "    </tr>\n",
       "    <tr>\n",
       "      <th>4</th>\n",
       "      <td>2016-06-28</td>\n",
       "      <td>MRD</td>\n",
       "      <td>MRD1</td>\n",
       "      <td>('2016-06-28', 'MRD1')</td>\n",
       "      <td>False</td>\n",
       "      <td>True</td>\n",
       "      <td>False</td>\n",
       "      <td>EasyGel</td>\n",
       "      <td>Bioindicator</td>\n",
       "      <td>0.0</td>\n",
       "      <td>25</td>\n",
       "      <td>26</td>\n",
       "      <td>180</td>\n",
       "      <td>2016</td>\n",
       "      <td>big_blue</td>\n",
       "      <td>none</td>\n",
       "    </tr>\n",
       "  </tbody>\n",
       "</table>\n",
       "</div>"
      ],
      "text/plain": [
       "         date location sample             date_sample  event  before event  \\\n",
       "0  2016-07-05      MRD   MRD1  ('2016-07-05', 'MRD1')   True         False   \n",
       "1  2016-07-12      MRD   MRD1  ('2016-07-12', 'MRD1')   True         False   \n",
       "2  2016-07-19      MRD   MRD1  ('2016-07-19', 'MRD1')  False         False   \n",
       "3  2016-06-21      MRD   MRD1  ('2016-06-21', 'MRD1')  False          True   \n",
       "4  2016-06-28      MRD   MRD1  ('2016-06-28', 'MRD1')  False          True   \n",
       "\n",
       "   after event   medium         label  count  coef  week  doy  year     color  \\\n",
       "0        False  EasyGel  Bioindicator    0.0   250    27  187  2016  big_blue   \n",
       "1        False  EasyGel  Bioindicator   22.0    25    28  194  2016  big_blue   \n",
       "2         True  EasyGel  Bioindicator    8.0    25    29  201  2016  big_blue   \n",
       "3        False  EasyGel  Bioindicator    2.0   100    25  173  2016  big_blue   \n",
       "4        False  EasyGel  Bioindicator    0.0    25    26  180  2016  big_blue   \n",
       "\n",
       "  image  \n",
       "0  none  \n",
       "1  none  \n",
       "2  none  \n",
       "3  none  \n",
       "4  none  "
      ]
     },
     "execution_count": 3,
     "metadata": {},
     "output_type": "execute_result"
    }
   ],
   "source": [
    "print(\"revised\\n\")\n",
    "revised.head()"
   ]
  },
  {
   "cell_type": "markdown",
   "id": "8a944929-7a43-47d8-8a7e-7894fc0c44e0",
   "metadata": {},
   "source": [
    "## number of records"
   ]
  },
  {
   "cell_type": "code",
   "execution_count": 4,
   "id": "ef8a0f45-e007-403f-928e-3e77d6170e77",
   "metadata": {},
   "outputs": [
    {
     "name": "stdout",
     "output_type": "stream",
     "text": [
      "records inuse = 3036\n",
      "records revised = 3036\n"
     ]
    }
   ],
   "source": [
    "print(f'records inuse = {len(inuse)}')\n",
    "print(f'records revised = {len(revised)}')"
   ]
  },
  {
   "cell_type": "markdown",
   "id": "06a550a5-30ad-46ac-8d72-63944002e267",
   "metadata": {},
   "source": [
    "## mediums"
   ]
  },
  {
   "cell_type": "code",
   "execution_count": 5,
   "id": "9434d783-3bcd-47c3-af2c-5d95c0eb6a50",
   "metadata": {},
   "outputs": [
    {
     "data": {
      "text/plain": [
       "array(['EasyGel', 'ECC-A', 'ECC', 'E coli', 'LB', 'Levine'], dtype=object)"
      ]
     },
     "execution_count": 5,
     "metadata": {},
     "output_type": "execute_result"
    }
   ],
   "source": [
    "revised.medium.unique()"
   ]
  },
  {
   "cell_type": "code",
   "execution_count": 6,
   "id": "ceab01e9-8183-431f-86c2-bf4400e22287",
   "metadata": {},
   "outputs": [
    {
     "data": {
      "text/plain": [
       "array(['EasyGel', 'ECC-A', 'ECC', 'E coli', 'LB', 'Levine'], dtype=object)"
      ]
     },
     "execution_count": 6,
     "metadata": {},
     "output_type": "execute_result"
    }
   ],
   "source": [
    "inuse.medium.unique()"
   ]
  },
  {
   "cell_type": "markdown",
   "id": "c5ae38f7-70ad-4768-a92f-c53f6a6d321e",
   "metadata": {},
   "source": [
    "## samples"
   ]
  },
  {
   "cell_type": "code",
   "execution_count": 7,
   "id": "347eea5d-a82a-4a0c-afde-d7a9b32e3756",
   "metadata": {},
   "outputs": [
    {
     "name": "stdout",
     "output_type": "stream",
     "text": [
      "inuse unique date_samples = 573\n"
     ]
    }
   ],
   "source": [
    "print(f'inuse unique date_samples = {inuse.date_sample.nunique()}')"
   ]
  },
  {
   "cell_type": "code",
   "execution_count": 8,
   "id": "3285da10-3369-4137-bb52-c0104affea41",
   "metadata": {},
   "outputs": [
    {
     "name": "stdout",
     "output_type": "stream",
     "text": [
      "revised unique date_samples = 573\n"
     ]
    }
   ],
   "source": [
    "print(f'revised unique date_samples = {revised.date_sample.nunique()}')"
   ]
  },
  {
   "cell_type": "markdown",
   "id": "3b4cb68c-290b-4986-b2b1-59e284afb6fe",
   "metadata": {},
   "source": [
    "## locations"
   ]
  },
  {
   "cell_type": "code",
   "execution_count": 9,
   "id": "6eba504d-ec49-4804-8943-8b1094efb5ee",
   "metadata": {},
   "outputs": [
    {
     "name": "stdout",
     "output_type": "stream",
     "text": [
      "inuse unique locations = ['MRD' 'SVT' 'VNX']\n"
     ]
    }
   ],
   "source": [
    "print(f'inuse unique locations = {inuse.location.unique()}')"
   ]
  },
  {
   "cell_type": "code",
   "execution_count": 10,
   "id": "9b16df8d-9f32-413e-8bdb-e6a3f10c0719",
   "metadata": {},
   "outputs": [
    {
     "name": "stdout",
     "output_type": "stream",
     "text": [
      "revised unique locations = ['MRD' 'SVT' 'VNX']\n"
     ]
    }
   ],
   "source": [
    "print(f'revised unique locations = {revised.location.unique()}')"
   ]
  },
  {
   "cell_type": "markdown",
   "id": "d9d35505-6f24-446c-a51c-87db75ca77ab",
   "metadata": {},
   "source": [
    "### samples by location"
   ]
  },
  {
   "cell_type": "code",
   "execution_count": 11,
   "id": "f3885c3a-b410-4934-b90c-e8d25b68e427",
   "metadata": {},
   "outputs": [
    {
     "name": "stdout",
     "output_type": "stream",
     "text": [
      "inuse\n",
      "\n"
     ]
    },
    {
     "data": {
      "text/plain": [
       "location\n",
       "MRD    188\n",
       "SVT    194\n",
       "VNX    191\n",
       "Name: date_sample, dtype: int64"
      ]
     },
     "execution_count": 11,
     "metadata": {},
     "output_type": "execute_result"
    }
   ],
   "source": [
    "print(\"inuse\\n\")\n",
    "inuse.groupby(\"location\").date_sample.nunique()"
   ]
  },
  {
   "cell_type": "code",
   "execution_count": 12,
   "id": "3a1dad18-849b-41a8-b7ec-c7f659dc31f4",
   "metadata": {},
   "outputs": [
    {
     "name": "stdout",
     "output_type": "stream",
     "text": [
      "revised\n",
      "\n"
     ]
    },
    {
     "data": {
      "text/plain": [
       "location\n",
       "MRD    188\n",
       "SVT    194\n",
       "VNX    191\n",
       "Name: date_sample, dtype: int64"
      ]
     },
     "execution_count": 12,
     "metadata": {},
     "output_type": "execute_result"
    }
   ],
   "source": [
    "print(\"revised\\n\")\n",
    "revised.groupby(\"location\").date_sample.nunique()"
   ]
  },
  {
   "cell_type": "markdown",
   "id": "232cee91-bb5a-43ea-ae0b-99954dfc6206",
   "metadata": {},
   "source": [
    "## Differences\n",
    "\n",
    "### Count differences"
   ]
  },
  {
   "cell_type": "code",
   "execution_count": 13,
   "id": "7114424c-1cc2-464c-9873-de2b1270f64b",
   "metadata": {},
   "outputs": [],
   "source": [
    "difs = inuse.compare(revised, align_axis=1, result_names=(\"inuse\", \"revised\"), keep_equal=False)\n",
    "count_difs = difs[\"count\"].dropna()\n",
    "coef_difs = difs[\"coef\"].dropna()"
   ]
  },
  {
   "cell_type": "code",
   "execution_count": 14,
   "id": "f525c5ed-e794-4e68-bd87-ae586138c2d8",
   "metadata": {},
   "outputs": [
    {
     "name": "stdout",
     "output_type": "stream",
     "text": [
      "The number of inuse records where the count will changed = 69\n",
      "\n",
      "The samples that will be changed\n",
      " ['SVT1' 'MRD1' 'SVT2' 'SVT3' 'MRD2' 'MRD3' 'VNX1' 'VNX2' 'VNX3']\n",
      "\n",
      "The samples are on these dates\n",
      " [datetime.date(2020, 6, 11) datetime.date(2020, 7, 9)\n",
      " datetime.date(2020, 8, 6) datetime.date(2020, 6, 18)]\n"
     ]
    }
   ],
   "source": [
    "dssamps_changed = inuse.loc[count_difs.index][[\"date\", \"sample\"]]\n",
    "dssamps_changed[\"date\"] = pd.to_datetime(dssamps_changed[\"date\"]).dt.date\n",
    "changed = dssamps_changed[\"sample\"].unique()\n",
    "nchanged = len(dssamps_changed)\n",
    "\n",
    "print(f\"The number of inuse records where the count will changed = {nchanged}\\n\")\n",
    "print(f\"The samples that will be changed\\n {changed}\\n\")\n",
    "print(f\"The samples are on these dates\\n {dssamps_changed['date'].unique()}\")"
   ]
  },
  {
   "cell_type": "code",
   "execution_count": 15,
   "id": "0f4f759d-ad65-4610-97cf-5f6efea30736",
   "metadata": {},
   "outputs": [
    {
     "data": {
      "text/html": [
       "<div>\n",
       "<style scoped>\n",
       "    .dataframe tbody tr th:only-of-type {\n",
       "        vertical-align: middle;\n",
       "    }\n",
       "\n",
       "    .dataframe tbody tr th {\n",
       "        vertical-align: top;\n",
       "    }\n",
       "\n",
       "    .dataframe thead th {\n",
       "        text-align: right;\n",
       "    }\n",
       "</style>\n",
       "<table border=\"1\" class=\"dataframe\">\n",
       "  <thead>\n",
       "    <tr style=\"text-align: right;\">\n",
       "      <th></th>\n",
       "      <th>date</th>\n",
       "      <th>location</th>\n",
       "      <th>sample</th>\n",
       "      <th>date_sample</th>\n",
       "      <th>event</th>\n",
       "      <th>before event</th>\n",
       "      <th>after event</th>\n",
       "      <th>medium</th>\n",
       "      <th>label</th>\n",
       "      <th>count</th>\n",
       "      <th>coef</th>\n",
       "      <th>week</th>\n",
       "      <th>doy</th>\n",
       "      <th>year</th>\n",
       "      <th>color</th>\n",
       "      <th>image</th>\n",
       "    </tr>\n",
       "  </thead>\n",
       "  <tbody>\n",
       "    <tr>\n",
       "      <th>1649</th>\n",
       "      <td>2020-06-11</td>\n",
       "      <td>SVT</td>\n",
       "      <td>SVT1</td>\n",
       "      <td>(datetime.date(2020, 6, 11), 'SVT1')</td>\n",
       "      <td>False</td>\n",
       "      <td>True</td>\n",
       "      <td>False</td>\n",
       "      <td>Levine</td>\n",
       "      <td>Bioindicator</td>\n",
       "      <td>10.0</td>\n",
       "      <td>100</td>\n",
       "      <td>24</td>\n",
       "      <td>163</td>\n",
       "      <td>2020</td>\n",
       "      <td>green_met</td>\n",
       "      <td>IMG_9315.JPG</td>\n",
       "    </tr>\n",
       "    <tr>\n",
       "      <th>1653</th>\n",
       "      <td>2020-06-11</td>\n",
       "      <td>MRD</td>\n",
       "      <td>MRD1</td>\n",
       "      <td>(datetime.date(2020, 6, 11), 'MRD1')</td>\n",
       "      <td>False</td>\n",
       "      <td>True</td>\n",
       "      <td>False</td>\n",
       "      <td>Levine</td>\n",
       "      <td>Bioindicator</td>\n",
       "      <td>10.0</td>\n",
       "      <td>100</td>\n",
       "      <td>24</td>\n",
       "      <td>163</td>\n",
       "      <td>2020</td>\n",
       "      <td>green_met</td>\n",
       "      <td>IMG_9319.JPG</td>\n",
       "    </tr>\n",
       "    <tr>\n",
       "      <th>1794</th>\n",
       "      <td>2020-07-09</td>\n",
       "      <td>SVT</td>\n",
       "      <td>SVT2</td>\n",
       "      <td>(datetime.date(2020, 7, 9), 'SVT2')</td>\n",
       "      <td>False</td>\n",
       "      <td>False</td>\n",
       "      <td>False</td>\n",
       "      <td>Levine</td>\n",
       "      <td>Coliform</td>\n",
       "      <td>0.0</td>\n",
       "      <td>100</td>\n",
       "      <td>28</td>\n",
       "      <td>191</td>\n",
       "      <td>2020</td>\n",
       "      <td>purple</td>\n",
       "      <td>IMG_0097.JPG</td>\n",
       "    </tr>\n",
       "    <tr>\n",
       "      <th>1795</th>\n",
       "      <td>2020-07-09</td>\n",
       "      <td>SVT</td>\n",
       "      <td>SVT3</td>\n",
       "      <td>(datetime.date(2020, 7, 9), 'SVT3')</td>\n",
       "      <td>False</td>\n",
       "      <td>False</td>\n",
       "      <td>False</td>\n",
       "      <td>Levine</td>\n",
       "      <td>Coliform</td>\n",
       "      <td>0.0</td>\n",
       "      <td>100</td>\n",
       "      <td>28</td>\n",
       "      <td>191</td>\n",
       "      <td>2020</td>\n",
       "      <td>purple</td>\n",
       "      <td>IMG_0098.JPG</td>\n",
       "    </tr>\n",
       "    <tr>\n",
       "      <th>1797</th>\n",
       "      <td>2020-07-09</td>\n",
       "      <td>MRD</td>\n",
       "      <td>MRD1</td>\n",
       "      <td>(datetime.date(2020, 7, 9), 'MRD1')</td>\n",
       "      <td>False</td>\n",
       "      <td>False</td>\n",
       "      <td>False</td>\n",
       "      <td>Levine</td>\n",
       "      <td>Coliform</td>\n",
       "      <td>0.0</td>\n",
       "      <td>100</td>\n",
       "      <td>28</td>\n",
       "      <td>191</td>\n",
       "      <td>2020</td>\n",
       "      <td>purple</td>\n",
       "      <td>IMG_0100.JPG</td>\n",
       "    </tr>\n",
       "  </tbody>\n",
       "</table>\n",
       "</div>"
      ],
      "text/plain": [
       "            date location sample                           date_sample  event  \\\n",
       "1649  2020-06-11      SVT   SVT1  (datetime.date(2020, 6, 11), 'SVT1')  False   \n",
       "1653  2020-06-11      MRD   MRD1  (datetime.date(2020, 6, 11), 'MRD1')  False   \n",
       "1794  2020-07-09      SVT   SVT2   (datetime.date(2020, 7, 9), 'SVT2')  False   \n",
       "1795  2020-07-09      SVT   SVT3   (datetime.date(2020, 7, 9), 'SVT3')  False   \n",
       "1797  2020-07-09      MRD   MRD1   (datetime.date(2020, 7, 9), 'MRD1')  False   \n",
       "\n",
       "      before event  after event  medium         label  count  coef  week  doy  \\\n",
       "1649          True        False  Levine  Bioindicator   10.0   100    24  163   \n",
       "1653          True        False  Levine  Bioindicator   10.0   100    24  163   \n",
       "1794         False        False  Levine      Coliform    0.0   100    28  191   \n",
       "1795         False        False  Levine      Coliform    0.0   100    28  191   \n",
       "1797         False        False  Levine      Coliform    0.0   100    28  191   \n",
       "\n",
       "      year      color         image  \n",
       "1649  2020  green_met  IMG_9315.JPG  \n",
       "1653  2020  green_met  IMG_9319.JPG  \n",
       "1794  2020     purple  IMG_0097.JPG  \n",
       "1795  2020     purple  IMG_0098.JPG  \n",
       "1797  2020     purple  IMG_0100.JPG  "
      ]
     },
     "execution_count": 15,
     "metadata": {},
     "output_type": "execute_result"
    }
   ],
   "source": [
    "inuse.loc[count_difs.index].head()"
   ]
  },
  {
   "cell_type": "markdown",
   "id": "8f5e95c9-f38d-4847-9367-b639a32f8c7d",
   "metadata": {},
   "source": [
    "### Coefficient differences"
   ]
  },
  {
   "cell_type": "code",
   "execution_count": 16,
   "id": "e94e2e07-13c6-4f1f-82a2-6a4e171adee4",
   "metadata": {},
   "outputs": [
    {
     "name": "stdout",
     "output_type": "stream",
     "text": [
      "The number of inuse records where the coefficient will changed = 242\n",
      "\n",
      "The samples that will be changed\n",
      " ['VNX1' 'SVT1' 'MRD1' 'VNX2' 'SVT2' 'MRD2' 'VNX3' 'SVT3' 'MRD3']\n",
      "\n",
      "The samples are on these dates\n",
      " [datetime.date(2017, 7, 17) datetime.date(2017, 7, 24)\n",
      " datetime.date(2017, 7, 3)]\n"
     ]
    }
   ],
   "source": [
    "coef_changed = inuse.loc[coef_difs.index][[\"date\", \"sample\"]]\n",
    "coef_changed[\"date\"] = pd.to_datetime(coef_changed[\"date\"]).dt.date\n",
    "changed = coef_changed[\"sample\"].unique()\n",
    "nchanged = len(coef_changed)\n",
    "\n",
    "print(f\"The number of inuse records where the coefficient will changed = {nchanged}\\n\")\n",
    "print(f\"The samples that will be changed\\n {changed}\\n\")\n",
    "print(f\"The samples are on these dates\\n {coef_changed['date'].unique()}\")"
   ]
  },
  {
   "cell_type": "code",
   "execution_count": 17,
   "id": "411f656a-8ef5-4cee-ba4d-62e120bf2a82",
   "metadata": {},
   "outputs": [
    {
     "data": {
      "text/html": [
       "<div>\n",
       "<style scoped>\n",
       "    .dataframe tbody tr th:only-of-type {\n",
       "        vertical-align: middle;\n",
       "    }\n",
       "\n",
       "    .dataframe tbody tr th {\n",
       "        vertical-align: top;\n",
       "    }\n",
       "\n",
       "    .dataframe thead th {\n",
       "        text-align: right;\n",
       "    }\n",
       "</style>\n",
       "<table border=\"1\" class=\"dataframe\">\n",
       "  <thead>\n",
       "    <tr style=\"text-align: right;\">\n",
       "      <th></th>\n",
       "      <th>date</th>\n",
       "      <th>location</th>\n",
       "      <th>sample</th>\n",
       "      <th>date_sample</th>\n",
       "      <th>event</th>\n",
       "      <th>before event</th>\n",
       "      <th>after event</th>\n",
       "      <th>medium</th>\n",
       "      <th>label</th>\n",
       "      <th>count</th>\n",
       "      <th>coef</th>\n",
       "      <th>week</th>\n",
       "      <th>doy</th>\n",
       "      <th>year</th>\n",
       "      <th>color</th>\n",
       "      <th>image</th>\n",
       "    </tr>\n",
       "  </thead>\n",
       "  <tbody>\n",
       "    <tr>\n",
       "      <th>2142</th>\n",
       "      <td>2017-07-17</td>\n",
       "      <td>VNX</td>\n",
       "      <td>VNX1</td>\n",
       "      <td>('2017-07-17', 'VNX1')</td>\n",
       "      <td>False</td>\n",
       "      <td>False</td>\n",
       "      <td>True</td>\n",
       "      <td>EasyGel</td>\n",
       "      <td>Bioindicator</td>\n",
       "      <td>0.0</td>\n",
       "      <td>100</td>\n",
       "      <td>29</td>\n",
       "      <td>198</td>\n",
       "      <td>2017</td>\n",
       "      <td>fluo_halo</td>\n",
       "      <td>VNX1-19_51_41.jpg</td>\n",
       "    </tr>\n",
       "    <tr>\n",
       "      <th>2143</th>\n",
       "      <td>2017-07-17</td>\n",
       "      <td>SVT</td>\n",
       "      <td>SVT1</td>\n",
       "      <td>('2017-07-17', 'SVT1')</td>\n",
       "      <td>False</td>\n",
       "      <td>False</td>\n",
       "      <td>True</td>\n",
       "      <td>EasyGel</td>\n",
       "      <td>Bioindicator</td>\n",
       "      <td>0.0</td>\n",
       "      <td>100</td>\n",
       "      <td>29</td>\n",
       "      <td>198</td>\n",
       "      <td>2017</td>\n",
       "      <td>fluo_halo</td>\n",
       "      <td>SVT1-19_26_35.jpg</td>\n",
       "    </tr>\n",
       "    <tr>\n",
       "      <th>2144</th>\n",
       "      <td>2017-07-17</td>\n",
       "      <td>MRD</td>\n",
       "      <td>MRD1</td>\n",
       "      <td>('2017-07-17', 'MRD1')</td>\n",
       "      <td>False</td>\n",
       "      <td>False</td>\n",
       "      <td>True</td>\n",
       "      <td>EasyGel</td>\n",
       "      <td>Bioindicator</td>\n",
       "      <td>0.0</td>\n",
       "      <td>100</td>\n",
       "      <td>29</td>\n",
       "      <td>198</td>\n",
       "      <td>2017</td>\n",
       "      <td>fluo_halo</td>\n",
       "      <td>MRD1-18_38_11.jpg</td>\n",
       "    </tr>\n",
       "    <tr>\n",
       "      <th>2148</th>\n",
       "      <td>2017-07-24</td>\n",
       "      <td>SVT</td>\n",
       "      <td>SVT1</td>\n",
       "      <td>('2017-07-24', 'SVT1')</td>\n",
       "      <td>False</td>\n",
       "      <td>False</td>\n",
       "      <td>True</td>\n",
       "      <td>Levine</td>\n",
       "      <td>Bioindicator</td>\n",
       "      <td>0.0</td>\n",
       "      <td>100</td>\n",
       "      <td>30</td>\n",
       "      <td>205</td>\n",
       "      <td>2017</td>\n",
       "      <td>fluo_halo</td>\n",
       "      <td>SVT1-22_53_48.JPG</td>\n",
       "    </tr>\n",
       "    <tr>\n",
       "      <th>2149</th>\n",
       "      <td>2017-07-24</td>\n",
       "      <td>SVT</td>\n",
       "      <td>SVT1</td>\n",
       "      <td>('2017-07-24', 'SVT1')</td>\n",
       "      <td>False</td>\n",
       "      <td>False</td>\n",
       "      <td>True</td>\n",
       "      <td>EasyGel</td>\n",
       "      <td>Bioindicator</td>\n",
       "      <td>0.0</td>\n",
       "      <td>100</td>\n",
       "      <td>30</td>\n",
       "      <td>205</td>\n",
       "      <td>2017</td>\n",
       "      <td>fluo_halo</td>\n",
       "      <td>SVT1-13_10_25.JPG</td>\n",
       "    </tr>\n",
       "  </tbody>\n",
       "</table>\n",
       "</div>"
      ],
      "text/plain": [
       "            date location sample             date_sample  event  before event  \\\n",
       "2142  2017-07-17      VNX   VNX1  ('2017-07-17', 'VNX1')  False         False   \n",
       "2143  2017-07-17      SVT   SVT1  ('2017-07-17', 'SVT1')  False         False   \n",
       "2144  2017-07-17      MRD   MRD1  ('2017-07-17', 'MRD1')  False         False   \n",
       "2148  2017-07-24      SVT   SVT1  ('2017-07-24', 'SVT1')  False         False   \n",
       "2149  2017-07-24      SVT   SVT1  ('2017-07-24', 'SVT1')  False         False   \n",
       "\n",
       "      after event   medium         label  count  coef  week  doy  year  \\\n",
       "2142         True  EasyGel  Bioindicator    0.0   100    29  198  2017   \n",
       "2143         True  EasyGel  Bioindicator    0.0   100    29  198  2017   \n",
       "2144         True  EasyGel  Bioindicator    0.0   100    29  198  2017   \n",
       "2148         True   Levine  Bioindicator    0.0   100    30  205  2017   \n",
       "2149         True  EasyGel  Bioindicator    0.0   100    30  205  2017   \n",
       "\n",
       "          color              image  \n",
       "2142  fluo_halo  VNX1-19_51_41.jpg  \n",
       "2143  fluo_halo  SVT1-19_26_35.jpg  \n",
       "2144  fluo_halo  MRD1-18_38_11.jpg  \n",
       "2148  fluo_halo  SVT1-22_53_48.JPG  \n",
       "2149  fluo_halo  SVT1-13_10_25.JPG  "
      ]
     },
     "execution_count": 17,
     "metadata": {},
     "output_type": "execute_result"
    }
   ],
   "source": [
    "inuse.loc[coef_difs.index].head()"
   ]
  },
  {
   "cell_type": "code",
   "execution_count": null,
   "id": "52aabacc-b776-4ea9-9def-354e2117375d",
   "metadata": {},
   "outputs": [],
   "source": []
  }
 ],
 "metadata": {
  "kernelspec": {
   "display_name": "Python 3 (ipykernel)",
   "language": "python",
   "name": "python3"
  },
  "language_info": {
   "codemirror_mode": {
    "name": "ipython",
    "version": 3
   },
   "file_extension": ".py",
   "mimetype": "text/x-python",
   "name": "python",
   "nbconvert_exporter": "python",
   "pygments_lexer": "ipython3",
   "version": "3.9.17"
  }
 },
 "nbformat": 4,
 "nbformat_minor": 5
}
