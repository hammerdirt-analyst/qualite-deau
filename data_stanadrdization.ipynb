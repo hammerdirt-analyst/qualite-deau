{
 "cells": [
  {
   "cell_type": "markdown",
   "id": "b20f1e00-970d-4510-a05b-4b558af0335b",
   "metadata": {
    "editable": true,
    "slideshow": {
     "slide_type": ""
    },
    "tags": []
   },
   "source": [
    "# Data processing\n",
    "\n",
    "The water monitoring project at the Montreux Jazz has been going on since 2016. The data has been collected and treated by a variety of people since then. \n",
    "\n",
    "__Objective:__ Standardize the nomenclature from the different sampling years. Provide a model for storing and collecting data in the future.\n",
    "\n",
    "__Purpose:__ Define the probability that a survey will exceed a threshold value within the period of the year defined by the survey results.\n",
    "\n",
    "## Definitions\n",
    "\n",
    "* colony: a circular discoloration of the media within a defined size and color range\n",
    "* colony-count: the number of discolorations of the same hue for a media type\n",
    "* media/medium: the environment that the water samples are placed in\n",
    "* color: the observed color of the colony\n",
    "* label: the assumed category of the color:\n",
    "  * Bioindicator\n",
    "  * Coliform\n",
    "  * Other\n",
    "* coef: the volume of water used for the sample\n",
    " \n",
    "The purpose of the sampling is to identify colonies that appear in the media and classify them as one of the possible labels. The label of interest is _Bioindicators_, this represents the bacteria that are issue from the organism of interest. The organism in this case is people, the _Bioindicator_ is issue from fecal contaminants.\n",
    "\n",
    "## Methods\n",
    "\n",
    "The process requires collaborating with the data-manager(s) from the different project years and ensuring that the data from each year can be combined and interpreted together. The data for this collaboration is sotred in the _componentdata_ folder.\n",
    "\n",
    "The relationship of previous label <---> new label is stored in a dictionary for the different possibilities of medium, color, label and coefficient. The new labels are applied to a data-frame.\n",
    "\n",
    "The finsihed data (the result of the collaboration) is stored in the _end_ folder\n",
    "\n",
    "## Sample data\n",
    "\n",
    "The sample data is an example of the desired output per year. This includes the following parameters:\n",
    "\n",
    "1. colony-count\n",
    "2. label\n",
    "3. location\n",
    "4. coeficient*count\n",
    "5. week number\n",
    "6. day of year\n",
    "7. is-jazz: boolean\n",
    "8. rain fall in millimeters"
   ]
  },
  {
   "cell_type": "code",
   "execution_count": 8,
   "id": "c3cbf469-7cbe-4704-ad37-466afd0f5d2c",
   "metadata": {
    "tags": [
     "hide-input"
    ]
   },
   "outputs": [],
   "source": [
    "import pandas as pd\n",
    "import datetime as dt\n",
    "import numpy as np\n",
    "\n",
    "project = \"Hackuarium do it together water quality sampling\"\n",
    "site_markers = {\"SVT\":\"o\", \"VNX\":\"D\", \"MRD\":\"X\"}\n",
    "species_colors = { \"Bioindicator\":\"dodgerblue\", \"Coliform\":\"magenta\"}\n",
    "marker_colors = {\"SVT\":\"black\", \"VNX\":\"green\", \"MRD\":\"goldenrod\"}\n",
    "sites = [\"SVT\", \"VNX\", \"MRD\"]"
   ]
  },
  {
   "cell_type": "code",
   "execution_count": 10,
   "id": "fca288ab-6c1e-4837-ab27-9ee4f4f4cc76",
   "metadata": {
    "editable": true,
    "slideshow": {
     "slide_type": ""
    },
    "tags": []
   },
   "outputs": [
    {
     "data": {
      "text/html": [
       "<div>\n",
       "<style scoped>\n",
       "    .dataframe tbody tr th:only-of-type {\n",
       "        vertical-align: middle;\n",
       "    }\n",
       "\n",
       "    .dataframe tbody tr th {\n",
       "        vertical-align: top;\n",
       "    }\n",
       "\n",
       "    .dataframe thead th {\n",
       "        text-align: right;\n",
       "    }\n",
       "</style>\n",
       "<table border=\"1\" class=\"dataframe\">\n",
       "  <thead>\n",
       "    <tr style=\"text-align: right;\">\n",
       "      <th></th>\n",
       "      <th>date</th>\n",
       "      <th>sample</th>\n",
       "      <th>temperature</th>\n",
       "      <th>media</th>\n",
       "      <th>color</th>\n",
       "      <th>count</th>\n",
       "      <th>image (48h)</th>\n",
       "      <th>coef</th>\n",
       "      <th>date_sample</th>\n",
       "      <th>year</th>\n",
       "      <th>location</th>\n",
       "      <th>doy</th>\n",
       "      <th>week</th>\n",
       "    </tr>\n",
       "  </thead>\n",
       "  <tbody>\n",
       "    <tr>\n",
       "      <th>0</th>\n",
       "      <td>2023-06-12</td>\n",
       "      <td>VNX1</td>\n",
       "      <td>16.1</td>\n",
       "      <td>ECC-A</td>\n",
       "      <td>Dark Blue</td>\n",
       "      <td>0</td>\n",
       "      <td>20230614_205159.jpg</td>\n",
       "      <td>100.0</td>\n",
       "      <td>('12/6/2023', 'VNX1')</td>\n",
       "      <td>2023</td>\n",
       "      <td>VNX</td>\n",
       "      <td>163</td>\n",
       "      <td>24</td>\n",
       "    </tr>\n",
       "    <tr>\n",
       "      <th>1</th>\n",
       "      <td>2023-06-12</td>\n",
       "      <td>VNX1</td>\n",
       "      <td>16.1</td>\n",
       "      <td>ECC-A</td>\n",
       "      <td>Turquoise</td>\n",
       "      <td>0</td>\n",
       "      <td>20230614_205159.jpg</td>\n",
       "      <td>100.0</td>\n",
       "      <td>('12/6/2023', 'VNX1')</td>\n",
       "      <td>2023</td>\n",
       "      <td>VNX</td>\n",
       "      <td>163</td>\n",
       "      <td>24</td>\n",
       "    </tr>\n",
       "    <tr>\n",
       "      <th>2</th>\n",
       "      <td>2023-06-12</td>\n",
       "      <td>VNX1</td>\n",
       "      <td>16.1</td>\n",
       "      <td>ECC-A</td>\n",
       "      <td>Pink</td>\n",
       "      <td>11</td>\n",
       "      <td>20230614_205159.jpg</td>\n",
       "      <td>100.0</td>\n",
       "      <td>('12/6/2023', 'VNX1')</td>\n",
       "      <td>2023</td>\n",
       "      <td>VNX</td>\n",
       "      <td>163</td>\n",
       "      <td>24</td>\n",
       "    </tr>\n",
       "    <tr>\n",
       "      <th>3</th>\n",
       "      <td>2023-06-12</td>\n",
       "      <td>VNX2</td>\n",
       "      <td>16.1</td>\n",
       "      <td>ECC-A</td>\n",
       "      <td>Dark Blue</td>\n",
       "      <td>1</td>\n",
       "      <td>20230614_205229.jpg</td>\n",
       "      <td>100.0</td>\n",
       "      <td>('12/6/2023', 'VNX2')</td>\n",
       "      <td>2023</td>\n",
       "      <td>VNX</td>\n",
       "      <td>163</td>\n",
       "      <td>24</td>\n",
       "    </tr>\n",
       "    <tr>\n",
       "      <th>4</th>\n",
       "      <td>2023-06-12</td>\n",
       "      <td>VNX2</td>\n",
       "      <td>16.1</td>\n",
       "      <td>ECC-A</td>\n",
       "      <td>Turquoise</td>\n",
       "      <td>1</td>\n",
       "      <td>20230614_205229.jpg</td>\n",
       "      <td>100.0</td>\n",
       "      <td>('12/6/2023', 'VNX2')</td>\n",
       "      <td>2023</td>\n",
       "      <td>VNX</td>\n",
       "      <td>163</td>\n",
       "      <td>24</td>\n",
       "    </tr>\n",
       "  </tbody>\n",
       "</table>\n",
       "</div>"
      ],
      "text/plain": [
       "        date sample temperature  media      color count          image (48h)  \\\n",
       "0 2023-06-12   VNX1        16.1  ECC-A  Dark Blue     0  20230614_205159.jpg   \n",
       "1 2023-06-12   VNX1        16.1  ECC-A  Turquoise     0  20230614_205159.jpg   \n",
       "2 2023-06-12   VNX1        16.1  ECC-A       Pink    11  20230614_205159.jpg   \n",
       "3 2023-06-12   VNX2        16.1  ECC-A  Dark Blue     1  20230614_205229.jpg   \n",
       "4 2023-06-12   VNX2        16.1  ECC-A  Turquoise     1  20230614_205229.jpg   \n",
       "\n",
       "    coef            date_sample  year location  doy  week  \n",
       "0  100.0  ('12/6/2023', 'VNX1')  2023      VNX  163    24  \n",
       "1  100.0  ('12/6/2023', 'VNX1')  2023      VNX  163    24  \n",
       "2  100.0  ('12/6/2023', 'VNX1')  2023      VNX  163    24  \n",
       "3  100.0  ('12/6/2023', 'VNX2')  2023      VNX  163    24  \n",
       "4  100.0  ('12/6/2023', 'VNX2')  2023      VNX  163    24  "
      ]
     },
     "execution_count": 10,
     "metadata": {},
     "output_type": "execute_result"
    }
   ],
   "source": [
    "df = pd.read_csv(\"data/end/survey_data_2020_2023.csv\")\n",
    "df['date'] = pd.to_datetime(df[\"date\"])\n",
    "df['week'] = df[\"date\"].dt.isocalendar().week\n",
    "df.head()"
   ]
  },
  {
   "cell_type": "code",
   "execution_count": 11,
   "id": "00d90774-4cf3-4fd0-928d-f3e0d26a3df7",
   "metadata": {},
   "outputs": [],
   "source": [
    "# translate colors\n",
    "def translate_colors(x, bioindicators, coliforms, other):\n",
    "    if x in bioindicators:\n",
    "        return \"Bioindicator\"\n",
    "    elif x in coliforms:\n",
    "        return \"Coliform\"\n",
    "    elif x in other:\n",
    "        return \"Other\"\n",
    "    else:\n",
    "        return x\n",
    "\n",
    "bioindicators = [\"Dark Blue\", \"Blue\", \"Turquoise fast\", \"metallic_green\", \"green_met\"]\n",
    "coliforms = [\"Pink\", \"pink\"]\n",
    "other = [\"Turquoise\", \"Turquoise slow\", \"other\"]\n",
    "\n",
    "df[\"label\"] = df.color.apply(lambda x: translate_colors(x, bioindicators, coliforms, other))\n",
    "\n",
    "def translate_media(x, media_names):\n",
    "    if x in media_names.keys():\n",
    "        return media_names[x]\n",
    "    else:\n",
    "        return x\n",
    "\n",
    "media_names = {\n",
    "    \"ECC-A Card\":\"ECC-A\",\n",
    "    \"new ECCA\":\"ECC-A\",\n",
    "    \"E-coli side\": \"E coli\",\n",
    "    \"ECC-side\":\"ECC\",\n",
    "    \"selective\":\"Levine\",\n",
    "    \"media\":\"EasyGel\",\n",
    "    \"plus uv\":\"EasyGelPlus\",\n",
    "    \"UVplus\":\"EasyGelPlus\",\n",
    "    \"non-restrictive\":\"LB\"\n",
    "}\n",
    "\n",
    "df[\"medium\"] = df.media.apply(lambda x: translate_media(x, media_names))"
   ]
  },
  {
   "cell_type": "code",
   "execution_count": 12,
   "id": "aefd71cc-8540-4c95-ad7a-41f441f5c4ee",
   "metadata": {},
   "outputs": [
    {
     "data": {
      "text/plain": [
       "array(['ECC-A', 'Double side ECC', 'Double side E coli', 'ECC', 'LB',\n",
       "       'levine'], dtype=object)"
      ]
     },
     "execution_count": 12,
     "metadata": {},
     "output_type": "execute_result"
    }
   ],
   "source": [
    "df[\"medium\"].unique()"
   ]
  },
  {
   "cell_type": "code",
   "execution_count": 13,
   "id": "6dd8583d-c6cf-40df-b4ce-8c2e7c48123c",
   "metadata": {},
   "outputs": [
    {
     "data": {
      "text/plain": [
       "array(['Bioindicator', 'Other', 'Coliform', 'purple', 'mauve'],\n",
       "      dtype=object)"
      ]
     },
     "execution_count": 13,
     "metadata": {},
     "output_type": "execute_result"
    }
   ],
   "source": [
    "df[\"label\"].unique()"
   ]
  },
  {
   "cell_type": "code",
   "execution_count": 14,
   "id": "675a665f-416e-4b11-9dd3-256a7eb4e0d7",
   "metadata": {},
   "outputs": [
    {
     "data": {
      "text/plain": [
       "array([100.,   1.])"
      ]
     },
     "execution_count": 14,
     "metadata": {},
     "output_type": "execute_result"
    }
   ],
   "source": [
    "df.coef.unique()"
   ]
  },
  {
   "cell_type": "code",
   "execution_count": 15,
   "id": "95816a73-347b-4fd0-bfa7-01ec0fc138ab",
   "metadata": {},
   "outputs": [
    {
     "data": {
      "text/plain": [
       "array([2023, 2022, 2020])"
      ]
     },
     "execution_count": 15,
     "metadata": {},
     "output_type": "execute_result"
    }
   ],
   "source": [
    "df.year.unique()"
   ]
  },
  {
   "cell_type": "code",
   "execution_count": 16,
   "id": "f6be9687-c0cf-4591-9f18-b1c475948e58",
   "metadata": {},
   "outputs": [
    {
     "data": {
      "text/plain": [
       "<IntegerArray>\n",
       "[24, 25, 26, 27, 28, 29, 30, 31]\n",
       "Length: 8, dtype: UInt32"
      ]
     },
     "execution_count": 16,
     "metadata": {},
     "output_type": "execute_result"
    }
   ],
   "source": [
    "df.week.unique()"
   ]
  },
  {
   "cell_type": "code",
   "execution_count": null,
   "id": "04addcff-fc3b-4d7e-8381-709a28677f85",
   "metadata": {},
   "outputs": [],
   "source": []
  },
  {
   "cell_type": "code",
   "execution_count": null,
   "id": "697d1c3c-4d00-4a53-ab36-9afda01c1f02",
   "metadata": {},
   "outputs": [],
   "source": []
  }
 ],
 "metadata": {
  "kernelspec": {
   "display_name": "Python 3 (ipykernel)",
   "language": "python",
   "name": "python3"
  },
  "language_info": {
   "codemirror_mode": {
    "name": "ipython",
    "version": 3
   },
   "file_extension": ".py",
   "mimetype": "text/x-python",
   "name": "python",
   "nbconvert_exporter": "python",
   "pygments_lexer": "ipython3",
   "version": "3.9.17"
  }
 },
 "nbformat": 4,
 "nbformat_minor": 5
}
